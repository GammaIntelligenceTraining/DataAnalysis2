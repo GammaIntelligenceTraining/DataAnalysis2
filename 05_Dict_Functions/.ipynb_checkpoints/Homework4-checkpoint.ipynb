{
 "cells": [
  {
   "cell_type": "code",
   "execution_count": 1,
   "id": "f228a56b-e10a-43bc-8b99-1c3745c6ed00",
   "metadata": {},
   "outputs": [],
   "source": [
    "# Add a list of elements to a set\n",
    "sample_set = {\"Yellow\", \"Orange\", \"Black\"}\n",
    "sample_list = [\"Blue\", \"Green\", \"Red\"]"
   ]
  },
  {
   "cell_type": "code",
   "execution_count": 2,
   "id": "3939afd0-cf2d-4a8e-8ae2-95ff308a81ba",
   "metadata": {},
   "outputs": [],
   "source": [
    "# Return a new set of identical items from two sets\n",
    "set1 = {10, 20, 30, 40, 50}\n",
    "set2 = {30, 40, 50, 60, 70}"
   ]
  },
  {
   "cell_type": "code",
   "execution_count": 3,
   "id": "4a1cbde1-7f34-4af7-8372-0aff0886541f",
   "metadata": {},
   "outputs": [],
   "source": [
    "# Delete a list of keys from a dictionary\n",
    "sample_dict = {\n",
    "    \"name\": \"Kelly\",\n",
    "    \"age\": 25,\n",
    "    \"salary\": 8000,\n",
    "    \"city\": \"New york\"\n",
    "}\n",
    "\n",
    "keys = [\"name\", \"salary\"]"
   ]
  },
  {
   "cell_type": "code",
   "execution_count": 5,
   "id": "c09bc1ed-63f0-4259-9832-90ae9e1869e0",
   "metadata": {},
   "outputs": [],
   "source": [
    "# Дан список, каждый элемент которого является годом. Определите, является ли данный год високосным. Если год является високосным, \n",
    "# выведите YES, иначе выведите NO. В соответствии с григорианским календарем, год является високосным, если его номер кратен 4, \n",
    "# но не кратен 100 ИЛИ если он кратен 400.\n",
    "\n",
    "years_list = [2012, 2011, 1492, 1861, 1600, 1700, 1800, 1900, 2000]"
   ]
  }
 ],
 "metadata": {
  "kernelspec": {
   "display_name": "Python 3 (ipykernel)",
   "language": "python",
   "name": "python3"
  },
  "language_info": {
   "codemirror_mode": {
    "name": "ipython",
    "version": 3
   },
   "file_extension": ".py",
   "mimetype": "text/x-python",
   "name": "python",
   "nbconvert_exporter": "python",
   "pygments_lexer": "ipython3",
   "version": "3.10.7"
  }
 },
 "nbformat": 4,
 "nbformat_minor": 5
}
